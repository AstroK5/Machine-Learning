{
 "cells": [
  {
   "cell_type": "markdown",
   "id": "f140ffb1-0cf6-4b57-a56d-993237ff1c25",
   "metadata": {},
   "source": [
    "Find the best degree of the polynomial based on the MSE values using validation set."
   ]
  },
  {
   "cell_type": "code",
   "execution_count": 1,
   "id": "b7e72055-ccfe-4cba-9b68-1d71c408d25d",
   "metadata": {},
   "outputs": [],
   "source": [
    "#import the requires libraries\n",
    "import operator\n",
    "import numpy as np\n",
    "import pandas as pd\n",
    "import matplotlib.pyplot as plt\n",
    "from sklearn.metrics import mean_squared_error\n",
    "from sklearn.linear_model import LinearRegression\n",
    "from sklearn.model_selection import train_test_split\n",
    "from sklearn.preprocessing import PolynomialFeatures\n",
    "%matplotlib inline"
   ]
  },
  {
   "cell_type": "code",
   "execution_count": 2,
   "id": "08a018f3-f719-4acf-a53d-db8f2bdcbb22",
   "metadata": {},
   "outputs": [
    {
     "data": {
      "text/html": [
       "<div>\n",
       "<style scoped>\n",
       "    .dataframe tbody tr th:only-of-type {\n",
       "        vertical-align: middle;\n",
       "    }\n",
       "\n",
       "    .dataframe tbody tr th {\n",
       "        vertical-align: top;\n",
       "    }\n",
       "\n",
       "    .dataframe thead th {\n",
       "        text-align: right;\n",
       "    }\n",
       "</style>\n",
       "<table border=\"1\" class=\"dataframe\">\n",
       "  <thead>\n",
       "    <tr style=\"text-align: right;\">\n",
       "      <th></th>\n",
       "      <th>x</th>\n",
       "      <th>y</th>\n",
       "    </tr>\n",
       "  </thead>\n",
       "  <tbody>\n",
       "    <tr>\n",
       "      <th>0</th>\n",
       "      <td>4.98</td>\n",
       "      <td>24.0</td>\n",
       "    </tr>\n",
       "    <tr>\n",
       "      <th>1</th>\n",
       "      <td>9.14</td>\n",
       "      <td>21.6</td>\n",
       "    </tr>\n",
       "    <tr>\n",
       "      <th>2</th>\n",
       "      <td>4.03</td>\n",
       "      <td>34.7</td>\n",
       "    </tr>\n",
       "    <tr>\n",
       "      <th>3</th>\n",
       "      <td>2.94</td>\n",
       "      <td>33.4</td>\n",
       "    </tr>\n",
       "    <tr>\n",
       "      <th>4</th>\n",
       "      <td>5.33</td>\n",
       "      <td>36.2</td>\n",
       "    </tr>\n",
       "  </tbody>\n",
       "</table>\n",
       "</div>"
      ],
      "text/plain": [
       "      x     y\n",
       "0  4.98  24.0\n",
       "1  9.14  21.6\n",
       "2  4.03  34.7\n",
       "3  2.94  33.4\n",
       "4  5.33  36.2"
      ]
     },
     "execution_count": 2,
     "metadata": {},
     "output_type": "execute_result"
    }
   ],
   "source": [
    "#read the dataset\n",
    "df = pd.read_csv(\"/Users/karnikabhardwaj/Downloads/dataset.csv\")\n",
    "\n",
    "df.head()"
   ]
  },
  {
   "cell_type": "code",
   "execution_count": 7,
   "id": "8550efad-facb-4863-b19c-68fbb462c992",
   "metadata": {},
   "outputs": [],
   "source": [
    "# assign the values of the x and y column as the predictor and response variable\n",
    "x = df[['x']].values\n",
    "y = df.y.values"
   ]
  },
  {
   "cell_type": "markdown",
   "id": "2e6dc939-c5c5-4540-84b5-e1f84b688875",
   "metadata": {},
   "source": [
    "Train - Validation split"
   ]
  },
  {
   "cell_type": "code",
   "execution_count": 9,
   "id": "651312be-770b-44a1-82a4-038e273fe101",
   "metadata": {},
   "outputs": [],
   "source": [
    "#split the dataset into train and validation sets with 75% training data and set random state as 1\n",
    "x_train, x_val, y_train, y_val = train_test_split(x,y,train_size = 0.75, random_state = 1)"
   ]
  },
  {
   "cell_type": "markdown",
   "id": "89ce4c7a-72df-473c-a51b-6837479305fe",
   "metadata": {},
   "source": [
    "Computing the train and validation error in terms of MSE"
   ]
  },
  {
   "cell_type": "code",
   "execution_count": 15,
   "id": "cdd35854-e7a0-4e18-b2ae-ad3b7e35e420",
   "metadata": {},
   "outputs": [],
   "source": [
    "# maximum degree\n",
    "maxdeg = 14\n",
    "\n",
    "#create two empty lists to store training and validatio MSEs\n",
    "training_error, validation_error = [], []\n",
    "\n",
    "#loop through the degrees of the polynomial to create the different models\n",
    "for d in range(maxdeg):\n",
    "    \n",
    "    # compute the polynomial features for the current degree of the train set\n",
    "    x_poly_train = PolynomialFeatures(degree = d).fit_transform(x_train)\n",
    "    \n",
    "    #compute the polynomial features of the validation set\n",
    "    x_poly_val = PolynomialFeatures(degree = d).fit_transform(x_val)\n",
    "    \n",
    "    #intialize a linear regression model\n",
    "    lreg = LinearRegression(fit_intercept = False)\n",
    "    \n",
    "    #fit the model on the train data\n",
    "    lreg.fit(x_poly_train, y_train)\n",
    "    \n",
    "    #use the trained model to predict the transformed train data\n",
    "    y_train_pred = lreg.predict(x_poly_train)\n",
    "    \n",
    "    #use the trained model to predict on the transformed validation data\n",
    "    y_val_pred = lreg.predict(x_poly_val)\n",
    "    \n",
    "    #compute the MSE on the train predictions\n",
    "    training_error.append(mean_squared_error(y_train, y_train_pred))\n",
    "    \n",
    "    #compute the MSE on the validation predictions\n",
    "    validation_error.append(mean_squared_error(y_val, y_val_pred))\n",
    "                                                  "
   ]
  },
  {
   "cell_type": "markdown",
   "id": "f82c8c5b-5045-4c00-8a52-47923b4265a3",
   "metadata": {},
   "source": [
    "Find the best degree"
   ]
  },
  {
   "cell_type": "code",
   "execution_count": 28,
   "id": "7a78e2e0-9a26-4a7e-bb87-6f09c9d67cfc",
   "metadata": {},
   "outputs": [
    {
     "name": "stdout",
     "output_type": "stream",
     "text": [
      "The best degree of the model is  2\n"
     ]
    }
   ],
   "source": [
    "min_mse = min(validation_error)\n",
    "best_degree = validation_error.index(min_mse)\n",
    "\n",
    "print(\"The best degree of the model is \", best_degree)"
   ]
  },
  {
   "cell_type": "markdown",
   "id": "23127103-cc44-4a62-ae0d-5e2b05ff1e4c",
   "metadata": {},
   "source": [
    "Plotting the error graph"
   ]
  },
  {
   "cell_type": "code",
   "execution_count": 29,
   "id": "6cd50485-449b-4be8-b8be-4406b9955449",
   "metadata": {},
   "outputs": [
    {
     "data": {
      "image/png": "[encoded data removed]",
      "text/plain": [
       "<Figure size 432x288 with 1 Axes>"
      ]
     },
     "metadata": {
      "needs_background": "light"
     },
     "output_type": "display_data"
    }
   ],
   "source": [
    "fig, ax = plt.subplots()\n",
    "\n",
    "#plot the training error\n",
    "ax.plot(training_error, label = \"Training error\")\n",
    "\n",
    "#plot the validation error\n",
    "ax.plot(validation_error, label = \"Validation error\")\n",
    "\n",
    "#set the plot labels and legends\n",
    "ax.set_xlabel(\"Degree of polynomial\")\n",
    "ax.set_ylabel(\"Mean Squared Error\")\n",
    "ax.legend(loc = \"best\")\n",
    "ax.set_yscale(\"log\")\n",
    "plt.show()"
   ]
  },
  {
   "cell_type": "markdown",
   "id": "e721bd7e-b912-47ea-bc8d-0a0c99047741",
   "metadata": {},
   "source": [
    "Find the best degree of the polynomial based on the MSE values using cross- validation."
   ]
  },
  {
   "cell_type": "code",
   "execution_count": 30,
   "id": "9d46dd32-3094-41d1-9273-58f5e12267c0",
   "metadata": {},
   "outputs": [],
   "source": [
    "from sklearn.model_selection import cross_validate"
   ]
  },
  {
   "cell_type": "markdown",
   "id": "089f2522-838f-4881-9313-b6a25a92e0b1",
   "metadata": {},
   "source": [
    "Computing the MSE"
   ]
  },
  {
   "cell_type": "code",
   "execution_count": 31,
   "id": "dba8c722-6994-4c46-9ad6-87b6bd683e6b",
   "metadata": {},
   "outputs": [],
   "source": [
    "### edTest(test_regression) ###\n",
    "\n",
    "# To iterate over the range, select the maximum degree of the polynomial\n",
    "maxdeg = 10\n",
    "\n",
    "# Create three empty lists to store training, validation and cross-validation MSEs\n",
    "training_error, validation_error, cross_validation_error = [],[],[]\n",
    "\n",
    "# Loop through the degrees of the polynomial\n",
    "for d in range(maxdeg):\n",
    "    \n",
    "    # Compute the polynomial features for the entire data\n",
    "    x_poly = PolynomialFeatures(d).fit_transform(x)\n",
    "\n",
    "    # Compute the polynomial features for the train data\n",
    "    x_poly_train = PolynomialFeatures(d).fit_transform(x_train)\n",
    "\n",
    "    # Compute the polynomial features for the validation data\n",
    "    x_poly_val = PolynomialFeatures(d).fit_transform(x_val)\n",
    "\n",
    "    # Initialize a Linear Regression object\n",
    "    lreg = LinearRegression(fit_intercept = False)\n",
    "  \n",
    "    # Fit model on the training set\n",
    "    lreg.fit(x_poly_train,y_train)\n",
    "\n",
    "    # Predict on the training data\n",
    "    y_train_pred = lreg.predict(x_poly_train)\n",
    "\n",
    "    # Predict on the validation set\n",
    "    y_val_pred = lreg.predict(x_poly_val)\n",
    "    \n",
    "    # Compute the mse on the train data\n",
    "    training_error.append(mean_squared_error(y_train, y_train_pred))\n",
    "\n",
    "    # Compute the mse on the validation data\n",
    "    validation_error.append(mean_squared_error(y_val, y_val_pred))\n",
    "    \n",
    "    # Perform cross-validation on the entire data with 10 folds and \n",
    "    # get the mse_scores\n",
    "    mse_score = cross_validate(estimator=lreg, X=x_poly, y=y, scoring=\"neg_mean_squared_error\", cv = 10, return_train_score = True)\n",
    "\n",
    "    # Compute the mean of the cross validation error and store in list \n",
    "    # Remember to take into account the sign of the MSE metric returned by the cross_validate function \n",
    "    cross_validation_error.append(-1*np.mean(mse_score['test_score']))\n",
    "    "
   ]
  },
  {
   "cell_type": "code",
   "execution_count": 32,
   "id": "103db2a5-57f8-4aab-a470-b59894127672",
   "metadata": {},
   "outputs": [],
   "source": [
    "# we keep fit_intercept = False because it will refrain adding redundant information to our design matrix."
   ]
  },
  {
   "cell_type": "code",
   "execution_count": 33,
   "id": "2ac986d9-b1a7-4092-b1d3-6bf9eefe4102",
   "metadata": {},
   "outputs": [
    {
     "name": "stdout",
     "output_type": "stream",
     "text": [
      "The best degree of the model using validation is 2\n",
      "The best degree of the model using cross-validation is 2\n"
     ]
    }
   ],
   "source": [
    "# Get the best degree associated with the lowest validation error\n",
    "min_mse = min(validation_error)\n",
    "best_degree = validation_error.index(min_mse)\n",
    "\n",
    "\n",
    "# Get the best degree associated with the lowest cross-validation error\n",
    "min_cross_val_mse = min(cross_validation_error)\n",
    "best_cross_val_degree = cross_validation_error.index(min_cross_val_mse)\n",
    "\n",
    "# Print the values\n",
    "print(\"The best degree of the model using validation is\",best_degree)\n",
    "print(\"The best degree of the model using cross-validation is\",best_cross_val_degree)\n"
   ]
  },
  {
   "cell_type": "code",
   "execution_count": 34,
   "id": "e8bdfde9-06a3-4dbf-82fc-84be3ec25bf9",
   "metadata": {},
   "outputs": [
    {
     "data": {
      "image/png": "[encoded data removed]",
      "text/plain": [
       "<Figure size 1152x576 with 2 Axes>"
      ]
     },
     "metadata": {
      "needs_background": "light"
     },
     "output_type": "display_data"
    }
   ],
   "source": [
    "# Plot the errors as a function of increasing d value to visualise the training and validation errors\n",
    "fig, ax = plt.subplots(1,2, figsize=(16,8))\n",
    "\n",
    "# Plot the training error with labels\n",
    "ax[0].plot(range(maxdeg), np.log(training_error), label = 'Training error', linewidth=3, color='#FF7E79', alpha=0.4)\n",
    "\n",
    "# Plot the validation error with labels\n",
    "ax[0].plot(range(maxdeg), np.log(validation_error), label = 'Validation error', linewidth=3, color=\"#007D66\", alpha=0.4)\n",
    "\n",
    "# Plot the training error with labels\n",
    "ax[1].plot(range(maxdeg), np.log(training_error), label = 'Training error', linewidth=3, color='#FF7E79', alpha=0.4)\n",
    "\n",
    "# Plot the cross-validation error with labels\n",
    "ax[1].plot(range(maxdeg), np.log(cross_validation_error), label = 'Cross-Validation error', linewidth=3, color=\"#007D66\", alpha=0.4)\n",
    "\n",
    "# Set the plot labels and legends\n",
    "ax[0].set_xlabel('Degree of Polynomial', fontsize=12)\n",
    "ax[0].set_ylabel('Log Mean Squared Error', fontsize=12)\n",
    "ax[0].set_title(\"Log of validation error as a function of degree\")\n",
    "\n",
    "ax[1].set_xlabel('Degree of Polynomial', fontsize=12)\n",
    "ax[1].set_ylabel('Log Mean Squared Error', fontsize=12)\n",
    "ax[1].set_title(\"Log of CV error as a function of degree\")\n",
    "\n",
    "ax[0].legend()\n",
    "ax[1].legend()\n",
    "plt.show();\n"
   ]
  },
  {
   "cell_type": "code",
   "execution_count": null,
   "id": "57b46e14-59b4-487e-9da1-b5964d810c62",
   "metadata": {},
   "outputs": [],
   "source": []
  },
  {
   "cell_type": "code",
   "execution_count": null,
   "id": "c6512c53-94bf-44c6-80b3-2c69ba1ba7db",
   "metadata": {},
   "outputs": [],
   "source": []
  }
 ],
 "metadata": {
  "kernelspec": {
   "display_name": "Python 3 (ipykernel)",
   "language": "python",
   "name": "python3"
  },
  "language_info": {
   "codemirror_mode": {
    "name": "ipython",
    "version": 3
   },
   "file_extension": ".py",
   "mimetype": "text/x-python",
   "name": "python",
   "nbconvert_exporter": "python",
   "pygments_lexer": "ipython3",
   "version": "3.9.7"
  }
 },
 "nbformat": 4,
 "nbformat_minor": 5
}
