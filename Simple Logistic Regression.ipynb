{
 "cells": [
  {
   "cell_type": "markdown",
   "id": "0187cc07",
   "metadata": {},
   "source": [
    "Simple Logistic Regression"
   ]
  },
  {
   "cell_type": "code",
   "execution_count": 4,
   "id": "ca6902f2",
   "metadata": {},
   "outputs": [],
   "source": [
    "#Importing the required libraries\n",
    "import pandas as pd\n",
    "import numpy as np\n",
    "from sklearn.model_selection import train_test_split\n",
    "from sklearn.metrics import accuracy_score\n",
    "from sklearn.model_selection import cross_val_score\n",
    "from sklearn.utils import shuffle\n",
    "from sklearn.linear_model import LogisticRegression\n",
    "from sklearn import preprocessing\n"
   ]
  },
  {
   "cell_type": "code",
   "execution_count": 5,
   "id": "671a92b2",
   "metadata": {},
   "outputs": [
    {
     "data": {
      "text/html": [
       "<div>\n",
       "<style scoped>\n",
       "    .dataframe tbody tr th:only-of-type {\n",
       "        vertical-align: middle;\n",
       "    }\n",
       "\n",
       "    .dataframe tbody tr th {\n",
       "        vertical-align: top;\n",
       "    }\n",
       "\n",
       "    .dataframe thead th {\n",
       "        text-align: right;\n",
       "    }\n",
       "</style>\n",
       "<table border=\"1\" class=\"dataframe\">\n",
       "  <thead>\n",
       "    <tr style=\"text-align: right;\">\n",
       "      <th></th>\n",
       "      <th>sepal_length</th>\n",
       "      <th>sepal_width</th>\n",
       "      <th>petal_length</th>\n",
       "      <th>petal_width</th>\n",
       "      <th>species</th>\n",
       "    </tr>\n",
       "  </thead>\n",
       "  <tbody>\n",
       "    <tr>\n",
       "      <th>0</th>\n",
       "      <td>5.1</td>\n",
       "      <td>3.5</td>\n",
       "      <td>1.4</td>\n",
       "      <td>0.2</td>\n",
       "      <td>Iris-setosa</td>\n",
       "    </tr>\n",
       "    <tr>\n",
       "      <th>1</th>\n",
       "      <td>4.9</td>\n",
       "      <td>3.0</td>\n",
       "      <td>1.4</td>\n",
       "      <td>0.2</td>\n",
       "      <td>Iris-setosa</td>\n",
       "    </tr>\n",
       "    <tr>\n",
       "      <th>2</th>\n",
       "      <td>4.7</td>\n",
       "      <td>3.2</td>\n",
       "      <td>1.3</td>\n",
       "      <td>0.2</td>\n",
       "      <td>Iris-setosa</td>\n",
       "    </tr>\n",
       "    <tr>\n",
       "      <th>3</th>\n",
       "      <td>4.6</td>\n",
       "      <td>3.1</td>\n",
       "      <td>1.5</td>\n",
       "      <td>0.2</td>\n",
       "      <td>Iris-setosa</td>\n",
       "    </tr>\n",
       "    <tr>\n",
       "      <th>4</th>\n",
       "      <td>5.0</td>\n",
       "      <td>3.6</td>\n",
       "      <td>1.4</td>\n",
       "      <td>0.2</td>\n",
       "      <td>Iris-setosa</td>\n",
       "    </tr>\n",
       "  </tbody>\n",
       "</table>\n",
       "</div>"
      ],
      "text/plain": [
       "   sepal_length  sepal_width  petal_length  petal_width      species\n",
       "0           5.1          3.5           1.4          0.2  Iris-setosa\n",
       "1           4.9          3.0           1.4          0.2  Iris-setosa\n",
       "2           4.7          3.2           1.3          0.2  Iris-setosa\n",
       "3           4.6          3.1           1.5          0.2  Iris-setosa\n",
       "4           5.0          3.6           1.4          0.2  Iris-setosa"
      ]
     },
     "execution_count": 5,
     "metadata": {},
     "output_type": "execute_result"
    }
   ],
   "source": [
    "#Reading the dataset IRIS.csv\n",
    "df = pd.read_csv(\"/Users/karnikabhardwaj/Downloads/IRIS.csv\")\n",
    "\n",
    "#take a quick look at the dataset\n",
    "df.head()"
   ]
  },
  {
   "cell_type": "code",
   "execution_count": 6,
   "id": "7a7c22e2",
   "metadata": {},
   "outputs": [],
   "source": [
    "#shuffle the species column with random state = 35\n",
    "\n",
    "df = shuffle(df, random_state=35)"
   ]
  },
  {
   "cell_type": "code",
   "execution_count": 7,
   "id": "f09ee4df",
   "metadata": {},
   "outputs": [],
   "source": [
    "#Assign the variable x as sepal_length (predictor)\n",
    "x = df[['petal_length']]\n",
    "\n",
    "#Assign the variable y as species (response)\n",
    "y = df['species']"
   ]
  },
  {
   "cell_type": "code",
   "execution_count": 9,
   "id": "575cb0a4",
   "metadata": {},
   "outputs": [],
   "source": [
    "#Splitting the dataset\n",
    "\n",
    "X_train, X_val, y_train, y_val = train_test_split(x, y, train_size=0.8, random_state=66)\n"
   ]
  },
  {
   "cell_type": "markdown",
   "id": "76cc0ec8",
   "metadata": {},
   "source": [
    "Model fitting"
   ]
  },
  {
   "cell_type": "code",
   "execution_count": 10,
   "id": "c6e92f99",
   "metadata": {},
   "outputs": [],
   "source": [
    "#Create a logisitc regression model, with random_state=5\n",
    "\n",
    "lreg = LogisticRegression(random_state = 5, max_iter = 20000, C=100000)\n",
    "\n",
    "#Fit the model using the training set\n",
    "lreg.fit(X_train, y_train)\n",
    "\n",
    "#Make predictions on the training and validation set\n",
    "y_train_pred = lreg.predict(X_train)\n",
    "y_val_pred = lreg.predict(X_val)"
   ]
  },
  {
   "cell_type": "code",
   "execution_count": 12,
   "id": "9fc5990d",
   "metadata": {},
   "outputs": [
    {
     "name": "stdout",
     "output_type": "stream",
     "text": [
      "Train Accuracy =  0.9416666666666667\n",
      "Validation Accuracy =  1.0\n"
     ]
    }
   ],
   "source": [
    "#Compute the accuracy\n",
    "\n",
    "train_accuracy = accuracy_score(y_train, y_train_pred)\n",
    "validation_accuracy = accuracy_score(y_val, y_val_pred)\n",
    "\n",
    "#print\n",
    "print(\"Train Accuracy = \", train_accuracy)\n",
    "print(\"Validation Accuracy = \", validation_accuracy)"
   ]
  },
  {
   "cell_type": "code",
   "execution_count": 14,
   "id": "de0e5dd5",
   "metadata": {},
   "outputs": [
    {
     "name": "stdout",
     "output_type": "stream",
     "text": [
      "CV Score =  [0.93333333 0.93333333 1.         0.93333333 1.         0.93333333\n",
      " 1.         1.         0.86666667 0.93333333]\n"
     ]
    }
   ],
   "source": [
    "#Accuracy with cross validation\n",
    "cv_score = cross_val_score(lreg, x, y, scoring = \"accuracy\", cv = 10)\n",
    "print(\"CV Score = \", cv_score)"
   ]
  },
  {
   "cell_type": "code",
   "execution_count": 15,
   "id": "9f86e14a",
   "metadata": {},
   "outputs": [
    {
     "name": "stdout",
     "output_type": "stream",
     "text": [
      "The mean of 10-fold cross validation accuracy is 0.9533333333333334 with std deviation 0.04268749491621898\n",
      "Compared to the validation accuracy from above 1.0\n"
     ]
    }
   ],
   "source": [
    "cv_score_mean = cv_score.mean()\n",
    "cv_score_std = cv_score.std()\n",
    "print(f\"The mean of 10-fold cross validation accuracy is {cv_score_mean} with std deviation {cv_score_std}\")\n",
    "print(f\"Compared to the validation accuracy from above {validation_accuracy}\")      "
   ]
  },
  {
   "cell_type": "code",
   "execution_count": null,
   "id": "7ba8a561",
   "metadata": {},
   "outputs": [],
   "source": []
  }
 ],
 "metadata": {
  "kernelspec": {
   "display_name": "Python 3 (ipykernel)",
   "language": "python",
   "name": "python3"
  },
  "language_info": {
   "codemirror_mode": {
    "name": "ipython",
    "version": 3
   },
   "file_extension": ".py",
   "mimetype": "text/x-python",
   "name": "python",
   "nbconvert_exporter": "python",
   "pygments_lexer": "ipython3",
   "version": "3.9.7"
  }
 },
 "nbformat": 4,
 "nbformat_minor": 5
}
