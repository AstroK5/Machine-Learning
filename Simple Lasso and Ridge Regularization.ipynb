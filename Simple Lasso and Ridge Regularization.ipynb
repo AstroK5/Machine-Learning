{
 "cells": [
  {
   "cell_type": "markdown",
   "id": "77170b85-8b19-4520-8e8a-a752252579de",
   "metadata": {},
   "source": [
    "Simple Lasso and Ridge Regularization"
   ]
  },
  {
   "cell_type": "code",
   "execution_count": 1,
   "id": "237f0033-fa8f-46b1-983e-4fa35196641f",
   "metadata": {},
   "outputs": [],
   "source": [
    "#import important libraries\n",
    "import pandas as pd\n",
    "import numpy as np\n",
    "import matplotlib.pyplot as plt\n",
    "from sklearn import preprocessing\n",
    "from sklearn.linear_model import Lasso\n",
    "from sklearn.linear_model import Ridge\n",
    "from sklearn.metrics import mean_squared_error\n",
    "from sklearn.model_selection import train_test_split\n",
    "from sklearn.linear_model import LinearRegression\n",
    "from sklearn.preprocessing import PolynomialFeatures"
   ]
  },
  {
   "cell_type": "code",
   "execution_count": 3,
   "id": "053836dd-ffef-4874-892c-e52d9b5b51e9",
   "metadata": {},
   "outputs": [],
   "source": [
    "#Read the dataset \n",
    "\n",
    "df = pd.read_csv(\"/Users/karnikabhardwaj/Downloads/Boston_housing.csv\")"
   ]
  },
  {
   "cell_type": "code",
   "execution_count": 4,
   "id": "ab6c6515-ecfe-4c2b-8ee4-d6fc648c7ff3",
   "metadata": {},
   "outputs": [
    {
     "data": {
      "text/html": [
       "<div>\n",
       "<style scoped>\n",
       "    .dataframe tbody tr th:only-of-type {\n",
       "        vertical-align: middle;\n",
       "    }\n",
       "\n",
       "    .dataframe tbody tr th {\n",
       "        vertical-align: top;\n",
       "    }\n",
       "\n",
       "    .dataframe thead th {\n",
       "        text-align: right;\n",
       "    }\n",
       "</style>\n",
       "<table border=\"1\" class=\"dataframe\">\n",
       "  <thead>\n",
       "    <tr style=\"text-align: right;\">\n",
       "      <th></th>\n",
       "      <th>crim</th>\n",
       "      <th>indus</th>\n",
       "      <th>nox</th>\n",
       "      <th>rm</th>\n",
       "      <th>age</th>\n",
       "      <th>dis</th>\n",
       "      <th>rad</th>\n",
       "      <th>tax</th>\n",
       "      <th>ptratio</th>\n",
       "      <th>black</th>\n",
       "      <th>lstat</th>\n",
       "      <th>medv</th>\n",
       "    </tr>\n",
       "  </thead>\n",
       "  <tbody>\n",
       "    <tr>\n",
       "      <th>0</th>\n",
       "      <td>0.00632</td>\n",
       "      <td>2.31</td>\n",
       "      <td>0.538</td>\n",
       "      <td>6.575</td>\n",
       "      <td>65.2</td>\n",
       "      <td>4.0900</td>\n",
       "      <td>1</td>\n",
       "      <td>296</td>\n",
       "      <td>15.3</td>\n",
       "      <td>396.90</td>\n",
       "      <td>4.98</td>\n",
       "      <td>24.0</td>\n",
       "    </tr>\n",
       "    <tr>\n",
       "      <th>1</th>\n",
       "      <td>0.02731</td>\n",
       "      <td>7.07</td>\n",
       "      <td>0.469</td>\n",
       "      <td>6.421</td>\n",
       "      <td>78.9</td>\n",
       "      <td>4.9671</td>\n",
       "      <td>2</td>\n",
       "      <td>242</td>\n",
       "      <td>17.8</td>\n",
       "      <td>396.90</td>\n",
       "      <td>9.14</td>\n",
       "      <td>21.6</td>\n",
       "    </tr>\n",
       "    <tr>\n",
       "      <th>2</th>\n",
       "      <td>0.02729</td>\n",
       "      <td>7.07</td>\n",
       "      <td>0.469</td>\n",
       "      <td>7.185</td>\n",
       "      <td>61.1</td>\n",
       "      <td>4.9671</td>\n",
       "      <td>2</td>\n",
       "      <td>242</td>\n",
       "      <td>17.8</td>\n",
       "      <td>392.83</td>\n",
       "      <td>4.03</td>\n",
       "      <td>34.7</td>\n",
       "    </tr>\n",
       "    <tr>\n",
       "      <th>3</th>\n",
       "      <td>0.03237</td>\n",
       "      <td>2.18</td>\n",
       "      <td>0.458</td>\n",
       "      <td>6.998</td>\n",
       "      <td>45.8</td>\n",
       "      <td>6.0622</td>\n",
       "      <td>3</td>\n",
       "      <td>222</td>\n",
       "      <td>18.7</td>\n",
       "      <td>394.63</td>\n",
       "      <td>2.94</td>\n",
       "      <td>33.4</td>\n",
       "    </tr>\n",
       "    <tr>\n",
       "      <th>4</th>\n",
       "      <td>0.06905</td>\n",
       "      <td>2.18</td>\n",
       "      <td>0.458</td>\n",
       "      <td>7.147</td>\n",
       "      <td>54.2</td>\n",
       "      <td>6.0622</td>\n",
       "      <td>3</td>\n",
       "      <td>222</td>\n",
       "      <td>18.7</td>\n",
       "      <td>396.90</td>\n",
       "      <td>5.33</td>\n",
       "      <td>36.2</td>\n",
       "    </tr>\n",
       "  </tbody>\n",
       "</table>\n",
       "</div>"
      ],
      "text/plain": [
       "      crim  indus    nox     rm   age     dis  rad  tax  ptratio   black  \\\n",
       "0  0.00632   2.31  0.538  6.575  65.2  4.0900    1  296     15.3  396.90   \n",
       "1  0.02731   7.07  0.469  6.421  78.9  4.9671    2  242     17.8  396.90   \n",
       "2  0.02729   7.07  0.469  7.185  61.1  4.9671    2  242     17.8  392.83   \n",
       "3  0.03237   2.18  0.458  6.998  45.8  6.0622    3  222     18.7  394.63   \n",
       "4  0.06905   2.18  0.458  7.147  54.2  6.0622    3  222     18.7  396.90   \n",
       "\n",
       "   lstat  medv  \n",
       "0   4.98  24.0  \n",
       "1   9.14  21.6  \n",
       "2   4.03  34.7  \n",
       "3   2.94  33.4  \n",
       "4   5.33  36.2  "
      ]
     },
     "execution_count": 4,
     "metadata": {},
     "output_type": "execute_result"
    }
   ],
   "source": [
    "#Get the quick look at the data\n",
    "df.head()"
   ]
  },
  {
   "cell_type": "code",
   "execution_count": 6,
   "id": "c157553d-9ba4-4d6a-9a11-3674665087fd",
   "metadata": {},
   "outputs": [],
   "source": [
    "#Select a subframe of predictors\n",
    "\n",
    "X = df[['crim','indus', 'nox', 'rm', 'age', 'dis', 'rad', 'tax', 'ptratio','black', 'lstat']]\n",
    "\n",
    "#Normalize the values of the dataframe\n",
    "X_norm = preprocessing.normalize(X)\n",
    "\n",
    "#select medv as the response variable\n",
    "y = df['medv']\n"
   ]
  },
  {
   "cell_type": "code",
   "execution_count": 7,
   "id": "badaeef4-2d5b-4de0-a8f1-bdbc820e1249",
   "metadata": {},
   "outputs": [],
   "source": [
    "#Split the dataset into train and validation sets\n",
    "\n",
    "X_train, X_val, y_train, y_val = train_test_split(X_norm,y,train_size = 0.7, random_state = 31)\n"
   ]
  },
  {
   "cell_type": "code",
   "execution_count": 8,
   "id": "86b770ce-0cda-4632-9fd0-2f13764cd611",
   "metadata": {},
   "outputs": [],
   "source": [
    "# Multiple Regression Analysis\n",
    "\n",
    "#fit a linear regression model\n",
    "lreg = LinearRegression()\n",
    "lreg.fit(X_train, y_train)\n",
    "\n",
    "#predict on the validation set\n",
    "\n",
    "y_val_pred = lreg.predict(X_val)"
   ]
  },
  {
   "cell_type": "code",
   "execution_count": 9,
   "id": "a0e36b0d-d78b-4968-9012-0c2a7fadacab",
   "metadata": {},
   "outputs": [
    {
     "name": "stdout",
     "output_type": "stream",
     "text": [
      "Multi-linear regression MSE is  20.13395137516532\n"
     ]
    }
   ],
   "source": [
    "#Computing the MSE for multi-regression \n",
    "\n",
    "#Use the mean_squared_error function to compute the validation mse\n",
    "mse = mean_squared_error(y_val_pred, y_val)\n",
    "\n",
    "#print the MSE values\n",
    "print(\"Multi-linear regression MSE is \", mse)"
   ]
  },
  {
   "cell_type": "code",
   "execution_count": 10,
   "id": "f1f01180-9e81-4081-9af7-1d7b73a0abc2",
   "metadata": {},
   "outputs": [],
   "source": [
    "#Obtaining the coefficients of the predictors \n",
    "\n",
    "#make a dictionary of the coefficients along the predictors as key \n",
    "lreg_coef = dict(zip(X.columns, np.transpose(lreg.coef_)))\n",
    "\n",
    "#Linear Regression coefficients values to plot\n",
    "lreg_x = list(lreg_coef.keys())\n",
    "lreg_y = list(lreg_coef.values())\n"
   ]
  },
  {
   "cell_type": "code",
   "execution_count": 11,
   "id": "e2e2d23b-082a-41ad-9345-cacca95a3009",
   "metadata": {},
   "outputs": [],
   "source": [
    "#Implementing LASSO Regularization\n",
    "\n",
    "#use alpha = 0.008\n",
    "lasso_reg = Lasso(alpha = 0.008)\n",
    "\n",
    "#fit on the training data\n",
    "lasso_reg.fit(X_train, y_train)\n",
    "\n",
    "#make a predcition on the validation data using the above trained model\n",
    "y_val_pred = lasso_reg.predict(X_val)"
   ]
  },
  {
   "cell_type": "code",
   "execution_count": 12,
   "id": "ff71c8b6-3e02-4fb9-bb0e-b208422812c3",
   "metadata": {},
   "outputs": [
    {
     "name": "stdout",
     "output_type": "stream",
     "text": [
      "Lasso validation set hava MSE,  31.676774400084444\n"
     ]
    }
   ],
   "source": [
    "#computing the MSE with LASSO regularization\n",
    "mse_lasso = mean_squared_error(y_val_pred, y_val)\n",
    "\n",
    "print(\"Lasso validation set hava MSE, \", mse_lasso)"
   ]
  },
  {
   "cell_type": "code",
   "execution_count": 13,
   "id": "bd1f2f8b-4bc2-4f19-a3c6-2552ed210252",
   "metadata": {},
   "outputs": [],
   "source": [
    "#Obtaining the coefficients of the predictors\n",
    "\n",
    "lasso_coef = dict(zip(X.columns, np.transpose(lasso_reg.coef_)))\n",
    "\n",
    "#lasso regularization coefficient values to plot\n",
    "\n",
    "lasso_x = list(lasso_coef.keys())\n",
    "lasso_y = list(lasso_coef.values())"
   ]
  },
  {
   "cell_type": "code",
   "execution_count": 14,
   "id": "c595778a-ec2d-4a61-9c4f-0c501d6d1d6e",
   "metadata": {},
   "outputs": [],
   "source": [
    "#Implementing Ridge Regularization\n",
    "ridgeReg = Ridge(alpha = 0.008)\n",
    "\n",
    "#fit the model on the training data\n",
    "ridgeReg.fit(X_train, y_train)\n",
    "\n",
    "#predict the model on the validation data\n",
    "y_val_pred = ridgeReg.predict(X_val)"
   ]
  },
  {
   "cell_type": "code",
   "execution_count": 15,
   "id": "5a338d7e-aa86-4c35-8685-022a4358ceb2",
   "metadata": {},
   "outputs": [
    {
     "name": "stdout",
     "output_type": "stream",
     "text": [
      "The MSE of Ridge Validation set is 28.05365901018082\n"
     ]
    }
   ],
   "source": [
    "#Computing the MSE for Ridge Regression\n",
    "mse_ridge = mean_squared_error(y_val_pred, y_val)\n",
    "print(\"The MSE of Ridge Validation set is\", mse_ridge)"
   ]
  },
  {
   "cell_type": "code",
   "execution_count": 16,
   "id": "9d8c0018-f061-442c-ba7d-4ad3de29e941",
   "metadata": {},
   "outputs": [],
   "source": [
    "#Obtaining the coefficients of the predictors\n",
    "\n",
    "ridge_coef = dict(zip(X.columns, np.transpose(ridgeReg.coef_)))\n",
    "\n",
    "#Ridge regularisation coefficient values to plot\n",
    "\n",
    "ridge_x = list(ridge_coef.keys())\n",
    "ridge_y = list(ridge_coef.values())\n"
   ]
  },
  {
   "cell_type": "code",
   "execution_count": 17,
   "id": "2d7e269f-470d-4627-a10c-aedb0dceeeb2",
   "metadata": {},
   "outputs": [
    {
     "data": {
      "image/png": "[encoded data removed]",
      "text/plain": [
       "<Figure size 640x480 with 1 Axes>"
      ]
     },
     "metadata": {},
     "output_type": "display_data"
    }
   ],
   "source": [
    "#Plot the graph\n",
    "\n",
    "plt.rcdefaults()\n",
    "\n",
    "plt.barh(lreg_x,lreg_y,1.0, align='edge',color=\"#D3B4B4\", label=\"Linear Regression\")\n",
    "plt.barh(lasso_x,lasso_y,1.0, align='edge',color=\"#81BDB2\", label=\"Lasso Regularization\")\n",
    "plt.barh(ridge_x,ridge_y,1.0, align='edge',color=\"#7E7EC0\", label=\"Ridge Regularization\")\n",
    "plt.grid(linewidth = 0.2)\n",
    "plt.xlabel(\"Coefficient\")\n",
    "plt.ylabel(\"Predictors\")\n",
    "plt.legend(loc = \"best\")\n",
    "plt.xlim(-6500, 3500)\n",
    "plt.show()"
   ]
  },
  {
   "cell_type": "code",
   "execution_count": null,
   "id": "e277169e-a4ab-4b43-a6a1-08106b1537e6",
   "metadata": {},
   "outputs": [],
   "source": []
  }
 ],
 "metadata": {
  "kernelspec": {
   "display_name": "Python 3 (ipykernel)",
   "language": "python",
   "name": "python3"
  },
  "language_info": {
   "codemirror_mode": {
    "name": "ipython",
    "version": 3
   },
   "file_extension": ".py",
   "mimetype": "text/x-python",
   "name": "python",
   "nbconvert_exporter": "python",
   "pygments_lexer": "ipython3",
   "version": "3.9.7"
  }
 },
 "nbformat": 4,
 "nbformat_minor": 5
}
