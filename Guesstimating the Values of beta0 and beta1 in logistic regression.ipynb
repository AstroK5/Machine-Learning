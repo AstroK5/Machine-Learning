{
 "cells": [
  {
   "cell_type": "markdown",
   "id": "fd678922",
   "metadata": {},
   "source": [
    "Guesstimating Beta Values for Logistic Regression"
   ]
  },
  {
   "cell_type": "code",
   "execution_count": 2,
   "id": "64ed9a31",
   "metadata": {},
   "outputs": [],
   "source": [
    "#Importing important libraries\n",
    "import numpy as np\n",
    "import pandas as pd\n",
    "from math import exp\n",
    "import matplotlib.pyplot as plt\n",
    "from sklearn.preprocessing import normalize\n",
    "from sklearn.metrics import accuracy_score"
   ]
  },
  {
   "cell_type": "code",
   "execution_count": 3,
   "id": "e40363c9",
   "metadata": {},
   "outputs": [
    {
     "data": {
      "text/html": [
       "<div>\n",
       "<style scoped>\n",
       "    .dataframe tbody tr th:only-of-type {\n",
       "        vertical-align: middle;\n",
       "    }\n",
       "\n",
       "    .dataframe tbody tr th {\n",
       "        vertical-align: top;\n",
       "    }\n",
       "\n",
       "    .dataframe thead th {\n",
       "        text-align: right;\n",
       "    }\n",
       "</style>\n",
       "<table border=\"1\" class=\"dataframe\">\n",
       "  <thead>\n",
       "    <tr style=\"text-align: right;\">\n",
       "      <th></th>\n",
       "      <th>age</th>\n",
       "      <th>insuranceclaim</th>\n",
       "    </tr>\n",
       "  </thead>\n",
       "  <tbody>\n",
       "    <tr>\n",
       "      <th>0</th>\n",
       "      <td>18.437371</td>\n",
       "      <td>0</td>\n",
       "    </tr>\n",
       "    <tr>\n",
       "      <th>1</th>\n",
       "      <td>19.539508</td>\n",
       "      <td>0</td>\n",
       "    </tr>\n",
       "    <tr>\n",
       "      <th>2</th>\n",
       "      <td>19.921685</td>\n",
       "      <td>0</td>\n",
       "    </tr>\n",
       "    <tr>\n",
       "      <th>3</th>\n",
       "      <td>20.625442</td>\n",
       "      <td>0</td>\n",
       "    </tr>\n",
       "    <tr>\n",
       "      <th>4</th>\n",
       "      <td>21.139852</td>\n",
       "      <td>0</td>\n",
       "    </tr>\n",
       "  </tbody>\n",
       "</table>\n",
       "</div>"
      ],
      "text/plain": [
       "         age  insuranceclaim\n",
       "0  18.437371               0\n",
       "1  19.539508               0\n",
       "2  19.921685               0\n",
       "3  20.625442               0\n",
       "4  21.139852               0"
      ]
     },
     "execution_count": 3,
     "metadata": {},
     "output_type": "execute_result"
    }
   ],
   "source": [
    "#Read the file insurance_claim and take a quick look at it\n",
    "\n",
    "df = pd.read_csv(\"/Users/karnikabhardwaj/Downloads/insurance_claim.csv\")\n",
    "df.head()"
   ]
  },
  {
   "cell_type": "code",
   "execution_count": 6,
   "id": "77642b68",
   "metadata": {},
   "outputs": [],
   "source": [
    "#Assign the x variable as the age (predictor)\n",
    "x = df['age'].values\n",
    "\n",
    "#Assign the y variable as the insuranceclaim (response)\n",
    "y = df['insuranceclaim'].values"
   ]
  },
  {
   "cell_type": "code",
   "execution_count": 9,
   "id": "94c0470b",
   "metadata": {},
   "outputs": [
    {
     "data": {
      "image/png": "[encoded data removed]",
      "text/plain": [
       "<Figure size 432x288 with 1 Axes>"
      ]
     },
     "metadata": {
      "needs_background": "light"
     },
     "output_type": "display_data"
    }
   ],
   "source": [
    "#Plotting the variable x and y\n",
    "plt.plot(x,y,'o', markersize=7, color='#011DAD', label=\"Data\")\n",
    "\n",
    "#Labelling the axis\n",
    "plt.xlabel(\"Age\")\n",
    "plt.ylabel(\"insurance claim\")\n",
    "\n",
    "plt.xticks(np.arange(18,80,4.0))\n",
    "\n",
    "#label the value 1 as 'Yes' and 0 as 'No'\n",
    "plt.yticks((0,1), labels=('No', 'Yes'))\n",
    "plt.legend(loc='best')\n",
    "plt.show()"
   ]
  },
  {
   "cell_type": "code",
   "execution_count": 10,
   "id": "21949c39",
   "metadata": {},
   "outputs": [],
   "source": [
    "#Guesstimate the values for beta 0 and beta1\n",
    "\n",
    "beta0 = -38\n",
    "beta1 = 0.99\n"
   ]
  },
  {
   "cell_type": "code",
   "execution_count": 11,
   "id": "be668d30",
   "metadata": {},
   "outputs": [],
   "source": [
    "#Use logistic regression equation to predict the respomse\n",
    "logit = []\n",
    "\n",
    "for i in x:\n",
    "    #Append the P(y=1) values to the logit list\n",
    "    num = 1\n",
    "    den = 1 + exp(-(beta0 + beta1*i))\n",
    "    logit.append(num/den)\n",
    "    "
   ]
  },
  {
   "cell_type": "code",
   "execution_count": 12,
   "id": "c3ff8601",
   "metadata": {},
   "outputs": [],
   "source": [
    "#If the predictors are above the threshold of 0.5, predict as 1 - otherwise 0\n",
    "\n",
    "y_pred = []\n",
    "for py in logit:\n",
    "    if py>0.5:\n",
    "        y_pred.append(1)\n",
    "    else:\n",
    "        y_pred.append(0)"
   ]
  },
  {
   "cell_type": "code",
   "execution_count": 13,
   "id": "3781f17a",
   "metadata": {},
   "outputs": [
    {
     "name": "stdout",
     "output_type": "stream",
     "text": [
      "0.98\n"
     ]
    }
   ],
   "source": [
    "#Use the accuracy_score function to fing the accuracy\n",
    "\n",
    "accuracy = accuracy_score(y_pred, y)\n",
    "\n",
    "print(accuracy)"
   ]
  },
  {
   "cell_type": "code",
   "execution_count": 16,
   "id": "74e05da2",
   "metadata": {},
   "outputs": [
    {
     "data": {
      "image/png": "[encoded data removed]",
      "text/plain": [
       "<Figure size 432x288 with 1 Axes>"
      ]
     },
     "metadata": {
      "needs_background": "light"
     },
     "output_type": "display_data"
    }
   ],
   "source": [
    "#Plotting the x and y variables with the fit curve\n",
    "plt.plot(x, y, 'o', markersize=7, color=\"#011DAD\", label=\"Data\")\n",
    "\n",
    "plt.plot(x,logit, linewidth=2,color=\"black\",label=\"Prediction\")\n",
    "\n",
    "plt.xticks(np.arange(18,80,4.0))\n",
    "plt.xlabel(\"Age\")\n",
    "plt.ylabel(\"Insurance Claim\")\n",
    "plt.yticks((0,1), labels=('No','Yes'))\n",
    "plt.legend()\n",
    "plt.show()"
   ]
  },
  {
   "cell_type": "code",
   "execution_count": null,
   "id": "1b30691a",
   "metadata": {},
   "outputs": [],
   "source": []
  }
 ],
 "metadata": {
  "kernelspec": {
   "display_name": "Python 3 (ipykernel)",
   "language": "python",
   "name": "python3"
  },
  "language_info": {
   "codemirror_mode": {
    "name": "ipython",
    "version": 3
   },
   "file_extension": ".py",
   "mimetype": "text/x-python",
   "name": "python",
   "nbconvert_exporter": "python",
   "pygments_lexer": "ipython3",
   "version": "3.9.7"
  }
 },
 "nbformat": 4,
 "nbformat_minor": 5
}
