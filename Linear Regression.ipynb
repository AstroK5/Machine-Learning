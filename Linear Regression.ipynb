{
 "cells": [
  {
   "cell_type": "markdown",
   "id": "77aa1b48",
   "metadata": {},
   "source": [
    "# MSE for varying beta values "
   ]
  },
  {
   "cell_type": "code",
   "execution_count": 3,
   "id": "412b59d1",
   "metadata": {},
   "outputs": [],
   "source": [
    "# import the required libraries\n",
    "import numpy as np\n",
    "import pandas as pd\n",
    "from sklearn.linear_model import LinearRegression\n",
    "from sklearn.utils import shuffle\n",
    "from sklearn.metrics import r2_score\n",
    "from sklearn.metrics import mean_squared_error\n",
    "from sklearn.neighbors import KNeighborsRegressor\n",
    "from sklearn.model_selection import train_test_split\n",
    "import matplotlib.pyplot as plt\n",
    "%matplotlib inline"
   ]
  },
  {
   "cell_type": "code",
   "execution_count": 4,
   "id": "c27007b1",
   "metadata": {},
   "outputs": [],
   "source": [
    "# read the data from the file \"Advertising.csv\"\n",
    "df = pd.read_csv(\"/Users/karnikabhardwaj/Downloads/Advertising.csv\")"
   ]
  },
  {
   "cell_type": "code",
   "execution_count": 5,
   "id": "503ea01b",
   "metadata": {},
   "outputs": [
    {
     "data": {
      "text/html": [
       "<div>\n",
       "<style scoped>\n",
       "    .dataframe tbody tr th:only-of-type {\n",
       "        vertical-align: middle;\n",
       "    }\n",
       "\n",
       "    .dataframe tbody tr th {\n",
       "        vertical-align: top;\n",
       "    }\n",
       "\n",
       "    .dataframe thead th {\n",
       "        text-align: right;\n",
       "    }\n",
       "</style>\n",
       "<table border=\"1\" class=\"dataframe\">\n",
       "  <thead>\n",
       "    <tr style=\"text-align: right;\">\n",
       "      <th></th>\n",
       "      <th>TV</th>\n",
       "      <th>Radio</th>\n",
       "      <th>Newspaper</th>\n",
       "      <th>Sales</th>\n",
       "    </tr>\n",
       "  </thead>\n",
       "  <tbody>\n",
       "    <tr>\n",
       "      <th>0</th>\n",
       "      <td>230.1</td>\n",
       "      <td>37.8</td>\n",
       "      <td>69.2</td>\n",
       "      <td>22.1</td>\n",
       "    </tr>\n",
       "    <tr>\n",
       "      <th>1</th>\n",
       "      <td>44.5</td>\n",
       "      <td>39.3</td>\n",
       "      <td>45.1</td>\n",
       "      <td>10.4</td>\n",
       "    </tr>\n",
       "    <tr>\n",
       "      <th>2</th>\n",
       "      <td>17.2</td>\n",
       "      <td>45.9</td>\n",
       "      <td>69.3</td>\n",
       "      <td>9.3</td>\n",
       "    </tr>\n",
       "    <tr>\n",
       "      <th>3</th>\n",
       "      <td>151.5</td>\n",
       "      <td>41.3</td>\n",
       "      <td>58.5</td>\n",
       "      <td>18.5</td>\n",
       "    </tr>\n",
       "    <tr>\n",
       "      <th>4</th>\n",
       "      <td>180.8</td>\n",
       "      <td>10.8</td>\n",
       "      <td>58.4</td>\n",
       "      <td>12.9</td>\n",
       "    </tr>\n",
       "    <tr>\n",
       "      <th>5</th>\n",
       "      <td>8.7</td>\n",
       "      <td>48.9</td>\n",
       "      <td>75.0</td>\n",
       "      <td>7.2</td>\n",
       "    </tr>\n",
       "    <tr>\n",
       "      <th>6</th>\n",
       "      <td>57.5</td>\n",
       "      <td>32.8</td>\n",
       "      <td>23.5</td>\n",
       "      <td>11.8</td>\n",
       "    </tr>\n",
       "    <tr>\n",
       "      <th>7</th>\n",
       "      <td>120.2</td>\n",
       "      <td>19.6</td>\n",
       "      <td>11.6</td>\n",
       "      <td>13.2</td>\n",
       "    </tr>\n",
       "    <tr>\n",
       "      <th>8</th>\n",
       "      <td>8.6</td>\n",
       "      <td>2.1</td>\n",
       "      <td>1.0</td>\n",
       "      <td>4.8</td>\n",
       "    </tr>\n",
       "    <tr>\n",
       "      <th>9</th>\n",
       "      <td>199.8</td>\n",
       "      <td>2.6</td>\n",
       "      <td>21.2</td>\n",
       "      <td>10.6</td>\n",
       "    </tr>\n",
       "  </tbody>\n",
       "</table>\n",
       "</div>"
      ],
      "text/plain": [
       "      TV  Radio  Newspaper  Sales\n",
       "0  230.1   37.8       69.2   22.1\n",
       "1   44.5   39.3       45.1   10.4\n",
       "2   17.2   45.9       69.3    9.3\n",
       "3  151.5   41.3       58.5   18.5\n",
       "4  180.8   10.8       58.4   12.9\n",
       "5    8.7   48.9       75.0    7.2\n",
       "6   57.5   32.8       23.5   11.8\n",
       "7  120.2   19.6       11.6   13.2\n",
       "8    8.6    2.1        1.0    4.8\n",
       "9  199.8    2.6       21.2   10.6"
      ]
     },
     "execution_count": 5,
     "metadata": {},
     "output_type": "execute_result"
    }
   ],
   "source": [
    "# take a quick look at the data\n",
    "df.head(10)"
   ]
  },
  {
   "cell_type": "code",
   "execution_count": 6,
   "id": "007a5a9e",
   "metadata": {},
   "outputs": [],
   "source": [
    "# create a new data frame called df_new with 'TV' & 'Sales'\n",
    "df_new = df[['TV', 'Sales']]"
   ]
  },
  {
   "cell_type": "markdown",
   "id": "9a131d6c",
   "metadata": {},
   "source": [
    "Beta and MSE computation"
   ]
  },
  {
   "cell_type": "code",
   "execution_count": 7,
   "id": "269682eb",
   "metadata": {},
   "outputs": [],
   "source": [
    "# set beta0 to 2.2\n",
    "beta0 = 2.2"
   ]
  },
  {
   "cell_type": "code",
   "execution_count": 16,
   "id": "48612896",
   "metadata": {},
   "outputs": [],
   "source": [
    "#create an empty list to store the beta1 values\n",
    "beta1_list = []\n"
   ]
  },
  {
   "cell_type": "code",
   "execution_count": 17,
   "id": "dc07d440",
   "metadata": {},
   "outputs": [],
   "source": [
    "for beta1 in np.arange(-2,3.1,0.1):\n",
    "    \n",
    "    # y = beta0 + beta1*x\n",
    "    y_predict = beta0 + (beta1*df_new['TV'])\n",
    "  \n",
    "    # Append the beta1 value to the appropriate list initialized above\n",
    "    beta1_list.append(beta1)"
   ]
  },
  {
   "cell_type": "code",
   "execution_count": 18,
   "id": "4d50a0eb",
   "metadata": {},
   "outputs": [
    {
     "data": {
      "text/plain": [
       "Text(0, 0.5, 'MSE')"
      ]
     },
     "execution_count": 18,
     "metadata": {},
     "output_type": "execute_result"
    },
    {
     "data": {
      "image/png": "[encoded data removed]",
      "text/plain": [
       "<Figure size 432x288 with 1 Axes>"
      ]
     },
     "metadata": {
      "needs_background": "light"
     },
     "output_type": "display_data"
    }
   ],
   "source": [
    "# print the MSE as a function of beta1\n",
    "\n",
    "plt.plot(beta1_list, mse_list)\n",
    "plt.xlabel('Beta1')\n",
    "plt.ylabel('MSE')"
   ]
  },
  {
   "cell_type": "code",
   "execution_count": 19,
   "id": "61005a66",
   "metadata": {},
   "outputs": [],
   "source": [
    "x = df[['TV']]\n",
    "y = df[['Sales']]\n",
    "\n",
    "# Split the dataset in train and test with 80% training set\n",
    "x_train, x_test, y_train, y_test = train_test_split(x,y,train_size=0.8)"
   ]
  },
  {
   "cell_type": "code",
   "execution_count": 20,
   "id": "87c904c0",
   "metadata": {},
   "outputs": [],
   "source": [
    "# intialize a linear regression\n",
    "model = LinearRegression()\n",
    "\n",
    "#fit the model\n",
    "model.fit(x_train, y_train)\n",
    "\n",
    "#predict on the test data using the trained model\n",
    "y_pred_test = model.predict(x_test)\n"
   ]
  },
  {
   "cell_type": "code",
   "execution_count": 21,
   "id": "1d96547c",
   "metadata": {},
   "outputs": [
    {
     "data": {
      "text/plain": [
       "<matplotlib.legend.Legend at 0x7f8dd0268eb0>"
      ]
     },
     "execution_count": 21,
     "metadata": {},
     "output_type": "execute_result"
    },
    {
     "data": {
      "image/png": "[encoded data removed]",
      "text/plain": [
       "<Figure size 432x288 with 1 Axes>"
      ]
     },
     "metadata": {
      "needs_background": "light"
     },
     "output_type": "display_data"
    }
   ],
   "source": [
    "# Make a plot of the data along with the predicted linear regression\n",
    "fig, ax = plt.subplots()\n",
    "ax.scatter(x,y,label='data points')\n",
    "\n",
    "# Plot the test data and the predicted output of test data\n",
    "ax.plot(x_test.values, y_pred_test, color='red',linewidth=2,label='model predictions')\n",
    "ax.set_xlabel('Advertising')\n",
    "ax.set_ylabel('Sales')\n",
    "ax.legend()\n"
   ]
  },
  {
   "cell_type": "code",
   "execution_count": null,
   "id": "2d4120bf",
   "metadata": {},
   "outputs": [],
   "source": []
  }
 ],
 "metadata": {
  "kernelspec": {
   "display_name": "Python 3 (ipykernel)",
   "language": "python",
   "name": "python3"
  },
  "language_info": {
   "codemirror_mode": {
    "name": "ipython",
    "version": 3
   },
   "file_extension": ".py",
   "mimetype": "text/x-python",
   "name": "python",
   "nbconvert_exporter": "python",
   "pygments_lexer": "ipython3",
   "version": "3.9.7"
  }
 },
 "nbformat": 4,
 "nbformat_minor": 5
}
