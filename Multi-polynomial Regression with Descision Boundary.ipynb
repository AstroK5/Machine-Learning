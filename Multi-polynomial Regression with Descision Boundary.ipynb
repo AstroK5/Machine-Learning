{
 "cells": [
  {
   "cell_type": "markdown",
   "id": "639b2acd",
   "metadata": {},
   "source": [
    "Multi-polynomial Regression with Descision Boundary"
   ]
  },
  {
   "cell_type": "code",
   "execution_count": 6,
   "id": "92d07d9a",
   "metadata": {},
   "outputs": [],
   "source": [
    "#importing the required libraries\n",
    "import pandas as pd\n",
    "import numpy as np\n",
    "import matplotlib.pyplot as plt\n",
    "from sklearn.linear_model import LogisticRegression\n",
    "from sklearn.preprocessing import PolynomialFeatures\n",
    "from sklearn.model_selection import train_test_split\n",
    "from sklearn import metrics\n",
    "from sklearn.metrics import accuracy_score\n"
   ]
  },
  {
   "cell_type": "code",
   "execution_count": 9,
   "id": "71db839f",
   "metadata": {},
   "outputs": [
    {
     "data": {
      "text/html": [
       "<div>\n",
       "<style scoped>\n",
       "    .dataframe tbody tr th:only-of-type {\n",
       "        vertical-align: middle;\n",
       "    }\n",
       "\n",
       "    .dataframe tbody tr th {\n",
       "        vertical-align: top;\n",
       "    }\n",
       "\n",
       "    .dataframe thead th {\n",
       "        text-align: right;\n",
       "    }\n",
       "</style>\n",
       "<table border=\"1\" class=\"dataframe\">\n",
       "  <thead>\n",
       "    <tr style=\"text-align: right;\">\n",
       "      <th></th>\n",
       "      <th>latitude</th>\n",
       "      <th>longitude</th>\n",
       "      <th>land_type</th>\n",
       "    </tr>\n",
       "  </thead>\n",
       "  <tbody>\n",
       "    <tr>\n",
       "      <th>0</th>\n",
       "      <td>-3.226989</td>\n",
       "      <td>-0.356542</td>\n",
       "      <td>0.0</td>\n",
       "    </tr>\n",
       "    <tr>\n",
       "      <th>1</th>\n",
       "      <td>-1.496209</td>\n",
       "      <td>0.416730</td>\n",
       "      <td>1.0</td>\n",
       "    </tr>\n",
       "    <tr>\n",
       "      <th>2</th>\n",
       "      <td>0.995726</td>\n",
       "      <td>-0.887490</td>\n",
       "      <td>1.0</td>\n",
       "    </tr>\n",
       "    <tr>\n",
       "      <th>3</th>\n",
       "      <td>0.633447</td>\n",
       "      <td>-1.898605</td>\n",
       "      <td>1.0</td>\n",
       "    </tr>\n",
       "    <tr>\n",
       "      <th>4</th>\n",
       "      <td>-0.076218</td>\n",
       "      <td>-0.794730</td>\n",
       "      <td>1.0</td>\n",
       "    </tr>\n",
       "  </tbody>\n",
       "</table>\n",
       "</div>"
      ],
      "text/plain": [
       "   latitude  longitude  land_type\n",
       "0 -3.226989  -0.356542        0.0\n",
       "1 -1.496209   0.416730        1.0\n",
       "2  0.995726  -0.887490        1.0\n",
       "3  0.633447  -1.898605        1.0\n",
       "4 -0.076218  -0.794730        1.0"
      ]
     },
     "execution_count": 9,
     "metadata": {},
     "output_type": "execute_result"
    }
   ],
   "source": [
    "#Load the file land_type.csv and take a quick look at it\n",
    "df = pd.read_csv(\"/Users/karnikabhardwaj/Downloads/land_type.csv\")\n",
    "df.head()"
   ]
  },
  {
   "cell_type": "code",
   "execution_count": 10,
   "id": "a105dd9b",
   "metadata": {},
   "outputs": [],
   "source": [
    "#Assign the variable x and y as the predictor and response\n",
    "x = df.drop(['land_type'], axis = 1)\n",
    "y = df['land_type']\n"
   ]
  },
  {
   "cell_type": "code",
   "execution_count": 13,
   "id": "6499743c",
   "metadata": {},
   "outputs": [
    {
     "data": {
      "image/png": "[encoded data removed]",
      "text/plain": [
       "<Figure size 360x360 with 1 Axes>"
      ]
     },
     "metadata": {
      "needs_background": "light"
     },
     "output_type": "display_data"
    }
   ],
   "source": [
    "#Plotting the data\n",
    "\n",
    "fig, ax = plt.subplots(1, 1, figsize=(5, 5))\n",
    "\n",
    "# Plot the latitude vs longitude values  for y==1\n",
    "# NOTE: use df[colname][y==1] to get values for 'latitude' & 'longtitude'\n",
    "   \n",
    "ax.plot(x['latitude'][y==1], x['longitude'][y==1], 'o',c='green', markersize=9,label='Agricultural lands')\n",
    "\n",
    "# Repeat the same, but for y==0\n",
    "\n",
    "ax.plot(x['latitude'][y==0], x['longitude'][y==0], 'o',c='brown', markersize=9,label='Dry lands', alpha=0.3)\n",
    "\n",
    "# Add labels\n",
    "\n",
    "ax.set_xlabel(\"Latitude\")\n",
    "ax.set_ylabel(\"Longitude\")\n",
    "\n",
    "ax.set_title('Satellite Image')\n",
    "\n",
    "ax.legend()\n",
    "plt.tight_layout()\n",
    "plt.show() "
   ]
  },
  {
   "cell_type": "code",
   "execution_count": 14,
   "id": "94a16567",
   "metadata": {},
   "outputs": [],
   "source": [
    "#Split the dataset with random state = 32\n",
    "x_train, x_val, y_train, y_val = train_test_split(x, y, train_size = 0.8, random_state=32)"
   ]
  },
  {
   "cell_type": "code",
   "execution_count": 15,
   "id": "43f78f3e",
   "metadata": {},
   "outputs": [],
   "source": [
    "#Make a logistic regression model with givel C value\n",
    "\n",
    "cval = 1e15\n",
    "\n",
    "lr = LogisticRegression(C=cval, max_iter = 16000)\n",
    "\n",
    "#Use polynomial features to make a response variable of degree 10\n",
    "\n",
    "degree = 10\n",
    "x_poly_train = PolynomialFeatures(degree=degree).fit_transform(x_train)\n",
    "x_poly_val = PolynomialFeatures(degree=degree).fit_transform(x_val)\n",
    "\n"
   ]
  },
  {
   "cell_type": "code",
   "execution_count": 18,
   "id": "0764f81f",
   "metadata": {},
   "outputs": [
    {
     "name": "stdout",
     "output_type": "stream",
     "text": [
      "Accuracy= 0.825\n"
     ]
    },
    {
     "name": "stderr",
     "output_type": "stream",
     "text": [
      "/Users/karnikabhardwaj/opt/anaconda3/lib/python3.9/site-packages/sklearn/linear_model/_logistic.py:763: ConvergenceWarning: lbfgs failed to converge (status=1):\n",
      "STOP: TOTAL NO. of f AND g EVALUATIONS EXCEEDS LIMIT.\n",
      "\n",
      "Increase the number of iterations (max_iter) or scale the data as shown in:\n",
      "    https://scikit-learn.org/stable/modules/preprocessing.html\n",
      "Please also refer to the documentation for alternative solver options:\n",
      "    https://scikit-learn.org/stable/modules/linear_model.html#logistic-regression\n",
      "  n_iter_i = _check_optimize_result(\n"
     ]
    }
   ],
   "source": [
    "# Fit the model with training data \n",
    "\n",
    "lr.fit(x_poly_train, y_train)\n",
    "\n",
    "# Make predictions on the validation data\n",
    "\n",
    "y_val_pred = lr.predict(x_poly_val)\n",
    "\n",
    "validation_accuracy = accuracy_score(y_val_pred, y_val)\n",
    "\n",
    "print(\"Accuracy=\",validation_accuracy)"
   ]
  },
  {
   "cell_type": "code",
   "execution_count": 20,
   "id": "9c2f770c",
   "metadata": {},
   "outputs": [
    {
     "data": {
      "image/png": "[encoded data removed]",
      "text/plain": [
       "<Figure size 360x360 with 1 Axes>"
      ]
     },
     "metadata": {
      "needs_background": "light"
     },
     "output_type": "display_data"
    }
   ],
   "source": [
    "#plotting \n",
    "fig, ax = plt.subplots(1, 1, figsize=(5, 5))\n",
    "\n",
    "xlat_0 = x_val.values[y_val==0,0]\n",
    "xlong_0 = x_val.values[y_val==0,1]\n",
    "\n",
    "ax.plot(xlat_0, xlong_0, 'o',c='green',alpha = 0.6, markersize=9,label='Agricultural lands')\n",
    "\n",
    "xlat_1 = x_val.values[y_val==1,0]\n",
    "xlong_1 = x_val.values[y_val==1,1]\n",
    "\n",
    "ax.plot(xlat_1, xlong_1, 'o',c='brown', markersize=9,label='Dry lands', alpha=0.3)\n",
    "\n",
    "xlat_pred_1 = x_val.values[y_val_pred==1,0]\n",
    "xlong_pred_1 = x_val.values[y_val_pred==1,1]\n",
    "ax.plot(xlat_pred_1, xlong_pred_1, 'o',c='black', alpha = 0.6, markersize=4,label='Dry land Prediction')\n",
    "\n",
    "\n",
    "ax.set_xlabel('Latitude')\n",
    "ax.set_ylabel('Longitude')\n",
    "ax.set_title('Satellite Image')\n",
    "\n",
    "ax.legend()\n",
    "plt.tight_layout()\n",
    "plt.show() "
   ]
  },
  {
   "cell_type": "markdown",
   "id": "7b124388",
   "metadata": {},
   "source": [
    "Visualising the data"
   ]
  },
  {
   "cell_type": "code",
   "execution_count": 21,
   "id": "f95cbc6c",
   "metadata": {},
   "outputs": [],
   "source": [
    "new_data = np.random.multivariate_normal([0, 0], np.eye(2) * 3, size=200)\n",
    "new_data = np.hstack((new_data, np.zeros((200, 1))))\n",
    "new_data[new_data[:, 0]**2 + new_data[:, 1]**2 < 3**2, 2] = np.random.choice([0, 1], len(new_data[new_data[:, 0]**2 + new_data[:, 1]**2 < 3**2]), p=[0.2, 0.8])\n",
    "\n",
    "x = new_data[:, :-1]\n",
    "y = new_data[:, -1]\n"
   ]
  },
  {
   "cell_type": "code",
   "execution_count": 25,
   "id": "b4b9c8ca",
   "metadata": {},
   "outputs": [
    {
     "data": {
      "image/png": "[encoded data removed]",
      "text/plain": [
       "<Figure size 360x360 with 1 Axes>"
      ]
     },
     "metadata": {
      "needs_background": "light"
     },
     "output_type": "display_data"
    }
   ],
   "source": [
    "\n",
    "def plot_boundary(x, y, model, title, ax, plot_data=True, fill=True, color='Greens',degree=0):\n",
    "    \n",
    "    \n",
    "    if plot_data:\n",
    "        # PLOT DATA\n",
    "        ax.scatter(x[y==1,0], x[y==1,1], c='green')\n",
    "        ax.scatter(x[y==0,0], x[y==0,1], c='brown')\n",
    "    \n",
    "    # CREATE MESH\n",
    "    interval = numpy.arange(min(x.min(), y.min()),max(x.max(), y.max()),0.01)\n",
    "    n = numpy.size(interval)\n",
    "    x1, x2 = numpy.meshgrid(interval, interval)\n",
    "    x1 = x1.reshape(-1,1)\n",
    "    x2 = x2.reshape(-1,1)\n",
    "    xx = numpy.concatenate((x1, x2), axis=1)\n",
    "\n",
    "    # PREDICT ON MESH POINTS\n",
    "    xxpoly = PolynomialFeatures(degree).fit_transform(xx)\n",
    "    yy = model.predict(xxpoly)    \n",
    "    yy = yy.reshape((n, n))\n",
    "\n",
    "    # PLOT DECISION SURFACE\n",
    "    x1 = x1.reshape(n, n)\n",
    "    x2 = x2.reshape(n, n)\n",
    "    if fill:\n",
    "        ax.contourf(x1, x2, yy, alpha=0.5, cmap=color)\n",
    "    else:\n",
    "        ax.contour(x1, x2, yy, alpha=0.5, cmap=color)\n",
    "    \n",
    "    # LABEL AXIS, TITLE\n",
    "    ax.set_title(title)\n",
    "    ax.set_xlabel('Latitude')\n",
    "    ax.set_ylabel('Longitude')\n",
    "    \n",
    "    \n",
    "    return ax\n",
    "\n",
    "\n",
    "# The helper function below, fits a Logistic Regression model, and plots the boundary around it using the function above\n",
    "\n",
    "def fit_and_plot_dt(x, y, c, title, ax, plot_data=True, fill=True, color='Blues',degree=0):\n",
    "\n",
    "    lreg = LogisticRegression(C=c, max_iter=6000)\n",
    "\n",
    "    x1 = PolynomialFeatures(degree).fit_transform(x)\n",
    "    lreg.fit(x1, y)\n",
    "\n",
    "    # PLOT DECISION TREE BOUNDARY\n",
    "    ax = plot_boundary(x, y, lreg, title, ax, plot_data, fill, color,degree=degree)\n",
    "    \n",
    "    return ax\n",
    "\n",
    "\n",
    "\n",
    "fig, ax = plt.subplots(figsize=(5, 5))\n",
    "\n",
    "# Choose the C_value and the degree of the polynomial for the polynomial logistic regression\n",
    "\n",
    "C_value = 1e15\n",
    "\n",
    "degree = 2\n",
    "\n",
    "# The helper function below\n",
    "\n",
    "ax = fit_and_plot_dt(x, y, C_value, 'Satellite',ax, plot_data=True, fill=False,degree=degree) \n",
    "\n",
    "# Setting the limits to better visualsize the plot\n",
    "\n",
    "ax.set_xlim(-6, 6)\n",
    "ax.set_ylim(-6, 6)\n",
    "\n",
    "plt.tight_layout()\n",
    "plt.show() "
   ]
  },
  {
   "cell_type": "code",
   "execution_count": null,
   "id": "6c7cf278",
   "metadata": {},
   "outputs": [],
   "source": []
  }
 ],
 "metadata": {
  "kernelspec": {
   "display_name": "Python 3 (ipykernel)",
   "language": "python",
   "name": "python3"
  },
  "language_info": {
   "codemirror_mode": {
    "name": "ipython",
    "version": 3
   },
   "file_extension": ".py",
   "mimetype": "text/x-python",
   "name": "python",
   "nbconvert_exporter": "python",
   "pygments_lexer": "ipython3",
   "version": "3.9.7"
  }
 },
 "nbformat": 4,
 "nbformat_minor": 5
}
